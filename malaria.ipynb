{
  "nbformat": 4,
  "nbformat_minor": 0,
  "metadata": {
    "colab": {
      "name": "Untitled1.ipynb",
      "provenance": [],
      "mount_file_id": "1OrHv2ff1DGYOZj6KtKyRx_HL-HSBUIpa",
      "authorship_tag": "ABX9TyNBTv+wQ5qEQQMlpztpM0EI",
      "include_colab_link": true
    },
    "kernelspec": {
      "name": "python3",
      "display_name": "Python 3"
    }
  },
  "cells": [
    {
      "cell_type": "markdown",
      "metadata": {
        "id": "view-in-github",
        "colab_type": "text"
      },
      "source": [
        "<a href=\"https://colab.research.google.com/github/ayuranjan/Malaria-using-CNN/blob/master/malaria.ipynb\" target=\"_parent\"><img src=\"https://colab.research.google.com/assets/colab-badge.svg\" alt=\"Open In Colab\"/></a>"
      ]
    },
    {
      "cell_type": "code",
      "metadata": {
        "id": "rVUO87nLJiRb",
        "colab_type": "code",
        "colab": {}
      },
      "source": [
        "import os \n",
        "os.mkdir('/content/drive/My Drive/ayush_ranjan_project/Malaria')"
      ],
      "execution_count": 0,
      "outputs": []
    },
    {
      "cell_type": "code",
      "metadata": {
        "id": "XGqqRdjwKG0y",
        "colab_type": "code",
        "colab": {}
      },
      "source": [
        "base_dir = '/content/drive/My Drive/ayush_ranjan_project/Malaria'\n",
        "train_dir = os.path.join(base_dir, 'train')\n",
        "os.mkdir(train_dir)\n",
        "validation_dir = os.path.join(base_dir, 'validation')\n",
        "os.mkdir(validation_dir)\n",
        "test_dir = os.path.join(base_dir, 'test')\n",
        "os.mkdir(test_dir)"
      ],
      "execution_count": 0,
      "outputs": []
    },
    {
      "cell_type": "code",
      "metadata": {
        "id": "7ynqUabpKSXK",
        "colab_type": "code",
        "colab": {}
      },
      "source": [
        "train_malaria_positive_dir = os.path.join(train_dir, 'malaria positive')\n",
        "os.mkdir(train_malaria_positive_dir)\n",
        "train_malaria_negative_dir = os.path.join(train_dir, 'malaria_negative')\n",
        "os.mkdir(train_malaria_negative_dir)\n",
        "valid_malaria_positive_dir = os.path.join(validation_dir, 'malaria positive')\n",
        "os.mkdir(valid_malaria_positive_dir)\n",
        "valid_malaria_negative_dir = os.path.join(validation_dir, 'malaria_negative')\n",
        "os.mkdir(valid_malaria_negative_dir)\n",
        "test_malaria_positive_dir = os.path.join(test_dir, 'malaria positive')\n",
        "os.mkdir(test_malaria_positive_dir)\n",
        "test_malaria_negative_dir = os.path.join(test_dir, 'malaria_negative')\n",
        "os.mkdir(test_malaria_negative_dir)"
      ],
      "execution_count": 0,
      "outputs": []
    },
    {
      "cell_type": "code",
      "metadata": {
        "id": "y9walbvBLL0h",
        "colab_type": "code",
        "colab": {}
      },
      "source": [
        "positive = '/content/drive/My Drive/ayush_ranjan_project/cell_images/Parasitized'"
      ],
      "execution_count": 0,
      "outputs": []
    },
    {
      "cell_type": "code",
      "metadata": {
        "id": "H8TkJn5pLa4B",
        "colab_type": "code",
        "colab": {}
      },
      "source": [
        "negative = '/content/drive/My Drive/ayush_ranjan_project/cell_images/Uninfected'"
      ],
      "execution_count": 0,
      "outputs": []
    },
    {
      "cell_type": "code",
      "metadata": {
        "id": "1jVA4tgHLeLs",
        "colab_type": "code",
        "outputId": "eaf8657b-c5c1-43f3-a408-935d42d9b419",
        "colab": {
          "base_uri": "https://localhost:8080/",
          "height": 34
        }
      },
      "source": [
        "len(os.listdir(positive))"
      ],
      "execution_count": 0,
      "outputs": [
        {
          "output_type": "execute_result",
          "data": {
            "text/plain": [
              "13780"
            ]
          },
          "metadata": {
            "tags": []
          },
          "execution_count": 6
        }
      ]
    },
    {
      "cell_type": "code",
      "metadata": {
        "id": "-LUm7BmTLnue",
        "colab_type": "code",
        "outputId": "db8a3de4-e8cb-48db-a989-4380e566205a",
        "colab": {
          "base_uri": "https://localhost:8080/",
          "height": 34
        }
      },
      "source": [
        "len(os.listdir(negative))"
      ],
      "execution_count": 0,
      "outputs": [
        {
          "output_type": "execute_result",
          "data": {
            "text/plain": [
              "13780"
            ]
          },
          "metadata": {
            "tags": []
          },
          "execution_count": 7
        }
      ]
    },
    {
      "cell_type": "code",
      "metadata": {
        "id": "uPo0GCTALt4K",
        "colab_type": "code",
        "outputId": "139bf960-2433-43cd-c8d3-3daea781d3b4",
        "colab": {
          "base_uri": "https://localhost:8080/",
          "height": 51
        }
      },
      "source": [
        "#So there are 13,780 images of both malaria positive and non malaria patients \n",
        "# Now we have to divide these images into train ,test and validation set \n",
        "# Let's divide the dataset into 80:20 ratio of train : test and further 80:20 into train and validation \n",
        "print(0.8 * 13780)\n",
        "print(13780 - 0.8* 13780)"
      ],
      "execution_count": 0,
      "outputs": [
        {
          "output_type": "stream",
          "text": [
            "11024.0\n",
            "2756.0\n"
          ],
          "name": "stdout"
        }
      ]
    },
    {
      "cell_type": "code",
      "metadata": {
        "id": "YySoIYBYNEwU",
        "colab_type": "code",
        "outputId": "a90791df-6878-4eaf-8cd7-c16fc637fbc2",
        "colab": {
          "base_uri": "https://localhost:8080/",
          "height": 51
        }
      },
      "source": [
        "# now 80% of this wille be \n",
        "print(0.8 * 11024)\n",
        "print(11024 - 0.8*11024)"
      ],
      "execution_count": 0,
      "outputs": [
        {
          "output_type": "stream",
          "text": [
            "8819.2\n",
            "2204.7999999999993\n"
          ],
          "name": "stdout"
        }
      ]
    },
    {
      "cell_type": "code",
      "metadata": {
        "id": "nQbcLStpNSoR",
        "colab_type": "code",
        "colab": {}
      },
      "source": [
        "# So now let's use the first 8820 images in test , next 2204 images in validation and 2756 images in test for each positive and negative malaria patients \n",
        "positive_malaria = os.listdir(positive)\n"
      ],
      "execution_count": 0,
      "outputs": []
    },
    {
      "cell_type": "code",
      "metadata": {
        "id": "IDjHzvgTOlwm",
        "colab_type": "code",
        "outputId": "fdded1f8-c33e-4c86-9d80-8babe28838d3",
        "colab": {
          "base_uri": "https://localhost:8080/",
          "height": 34
        }
      },
      "source": [
        "len(positive_malaria)"
      ],
      "execution_count": 0,
      "outputs": [
        {
          "output_type": "execute_result",
          "data": {
            "text/plain": [
              "13780"
            ]
          },
          "metadata": {
            "tags": []
          },
          "execution_count": 18
        }
      ]
    },
    {
      "cell_type": "code",
      "metadata": {
        "id": "460iF0qIOtwE",
        "colab_type": "code",
        "colab": {}
      },
      "source": [
        "positive_8820=[]\n",
        "for i in range(0,8820):\n",
        "  positive_8820.append(positive_malaria[i])\n"
      ],
      "execution_count": 0,
      "outputs": []
    },
    {
      "cell_type": "code",
      "metadata": {
        "id": "36erg0lUPV_g",
        "colab_type": "code",
        "outputId": "e46565f9-a1ec-4c33-e403-7ea69d5a6f4d",
        "colab": {
          "base_uri": "https://localhost:8080/",
          "height": 34
        }
      },
      "source": [
        "len(positive_8820)"
      ],
      "execution_count": 0,
      "outputs": [
        {
          "output_type": "execute_result",
          "data": {
            "text/plain": [
              "8820"
            ]
          },
          "metadata": {
            "tags": []
          },
          "execution_count": 21
        }
      ]
    },
    {
      "cell_type": "code",
      "metadata": {
        "id": "S_T0MjW8PY2p",
        "colab_type": "code",
        "colab": {}
      },
      "source": [
        "positive_2204= []\n",
        "for i in range(8820,11024):\n",
        "  positive_2204.append(positive_malaria[i])"
      ],
      "execution_count": 0,
      "outputs": []
    },
    {
      "cell_type": "code",
      "metadata": {
        "id": "_dAqPI3GPFjn",
        "colab_type": "code",
        "outputId": "26537646-db9c-4efe-c668-704b88120219",
        "colab": {
          "base_uri": "https://localhost:8080/",
          "height": 34
        }
      },
      "source": [
        "len(positive_2204)"
      ],
      "execution_count": 0,
      "outputs": [
        {
          "output_type": "execute_result",
          "data": {
            "text/plain": [
              "2204"
            ]
          },
          "metadata": {
            "tags": []
          },
          "execution_count": 24
        }
      ]
    },
    {
      "cell_type": "code",
      "metadata": {
        "id": "B2-nTJXvPw9P",
        "colab_type": "code",
        "colab": {}
      },
      "source": [
        "positive_2756 = []\n",
        "for i in range(11024,13780):\n",
        "  positive_2756.append(postive_malaria[i])"
      ],
      "execution_count": 0,
      "outputs": []
    },
    {
      "cell_type": "code",
      "metadata": {
        "id": "bjONkW-SQAIR",
        "colab_type": "code",
        "outputId": "515c2872-5c55-41d2-923b-b75c6073a9f8",
        "colab": {
          "base_uri": "https://localhost:8080/",
          "height": 34
        }
      },
      "source": [
        "len(positive_2756)"
      ],
      "execution_count": 0,
      "outputs": [
        {
          "output_type": "execute_result",
          "data": {
            "text/plain": [
              "2756"
            ]
          },
          "metadata": {
            "tags": []
          },
          "execution_count": 26
        }
      ]
    },
    {
      "cell_type": "code",
      "metadata": {
        "id": "eTifVQVEQbdZ",
        "colab_type": "code",
        "colab": {}
      },
      "source": [
        "import shutil\n",
        "for i in positive_8820:\n",
        "    src = os.path.join('/content/drive/My Drive/ayush_ranjan_project/cell_images/Parasitized', i)\n",
        "    dst = os.path.join('/content/drive/My Drive/ayush_ranjan_project/Malaria/train/malaria positive', i)\n",
        "    shutil.copyfile(src, dst)\n"
      ],
      "execution_count": 0,
      "outputs": []
    },
    {
      "cell_type": "code",
      "metadata": {
        "id": "cCH-eP15Rgxh",
        "colab_type": "code",
        "colab": {}
      },
      "source": [
        "for i in positive_2204:\n",
        "    src = os.path.join('/content/drive/My Drive/ayush_ranjan_project/cell_images/Parasitized', i)\n",
        "    dst = os.path.join('/content/drive/My Drive/ayush_ranjan_project/Malaria/validation/malaria positive', i)\n",
        "    shutil.copyfile(src, dst)\n"
      ],
      "execution_count": 0,
      "outputs": []
    },
    {
      "cell_type": "code",
      "metadata": {
        "id": "NEBiRbmETG18",
        "colab_type": "code",
        "colab": {}
      },
      "source": [
        "for i in positive_2756:\n",
        "    src = os.path.join('/content/drive/My Drive/ayush_ranjan_project/cell_images/Parasitized', i)\n",
        "    dst = os.path.join('/content/drive/My Drive/ayush_ranjan_project/Malaria/test/malaria positive', i)\n",
        "    shutil.copyfile(src, dst)\n"
      ],
      "execution_count": 0,
      "outputs": []
    },
    {
      "cell_type": "code",
      "metadata": {
        "id": "Atpi9Uz48QjM",
        "colab_type": "code",
        "colab": {}
      },
      "source": [
        "import os \n",
        "negative_malaria = os.listdir('/content/drive/My Drive/ayush_ranjan_project/cell_images/Uninfected')\n"
      ],
      "execution_count": 0,
      "outputs": []
    },
    {
      "cell_type": "code",
      "metadata": {
        "id": "CnZ3QflzDWtr",
        "colab_type": "code",
        "outputId": "0a9969b8-e637-44ac-c958-9d3db2cbb09e",
        "colab": {
          "base_uri": "https://localhost:8080/",
          "height": 34
        }
      },
      "source": [
        "len(negative_malaria)"
      ],
      "execution_count": 0,
      "outputs": [
        {
          "output_type": "execute_result",
          "data": {
            "text/plain": [
              "13780"
            ]
          },
          "metadata": {
            "tags": []
          },
          "execution_count": 5
        }
      ]
    },
    {
      "cell_type": "code",
      "metadata": {
        "id": "F-bnBJCtDcdL",
        "colab_type": "code",
        "colab": {}
      },
      "source": [
        "negative_8820=[]\n",
        "for i in range(0,8820):\n",
        "  negative_8820.append(negative_malaria[i])\n"
      ],
      "execution_count": 0,
      "outputs": []
    },
    {
      "cell_type": "code",
      "metadata": {
        "id": "sSjyxyrhDohp",
        "colab_type": "code",
        "colab": {}
      },
      "source": [
        "negative_2204= []\n",
        "for i in range(8820,11024):\n",
        "  negative_2204.append(negative_malaria[i])"
      ],
      "execution_count": 0,
      "outputs": []
    },
    {
      "cell_type": "code",
      "metadata": {
        "id": "DoDxVvJWD45u",
        "colab_type": "code",
        "colab": {}
      },
      "source": [
        "negative_2756 = []\n",
        "for i in range(11024,13780):\n",
        "  negative_2756.append(negative_malaria[i])"
      ],
      "execution_count": 0,
      "outputs": []
    },
    {
      "cell_type": "code",
      "metadata": {
        "id": "VlMFo-0_EFM7",
        "colab_type": "code",
        "colab": {}
      },
      "source": [
        "import shutil\n",
        "for i in negative_8820:\n",
        "    src = os.path.join('/content/drive/My Drive/ayush_ranjan_project/cell_images/Uninfected', i)\n",
        "    dst = os.path.join('/content/drive/My Drive/ayush_ranjan_project/Malaria/train/malaria_negative', i)\n",
        "    shutil.copyfile(src, dst)"
      ],
      "execution_count": 0,
      "outputs": []
    },
    {
      "cell_type": "code",
      "metadata": {
        "id": "GQx05lm6FMpi",
        "colab_type": "code",
        "colab": {}
      },
      "source": [
        "\n",
        "for i in negative_2204:\n",
        "    src = os.path.join('/content/drive/My Drive/ayush_ranjan_project/cell_images/Uninfected', i)\n",
        "    dst = os.path.join('/content/drive/My Drive/ayush_ranjan_project/Malaria/validation/malaria_negative', i)\n",
        "    shutil.copyfile(src, dst)"
      ],
      "execution_count": 0,
      "outputs": []
    },
    {
      "cell_type": "code",
      "metadata": {
        "id": "yBA5HfnnEvXu",
        "colab_type": "code",
        "colab": {}
      },
      "source": [
        "import shutil\n",
        "for i in negative_2756:\n",
        "    src = os.path.join('/content/drive/My Drive/ayush_ranjan_project/cell_images/Uninfected', i)\n",
        "    dst = os.path.join('/content/drive/My Drive/ayush_ranjan_project/Malaria/test/malaria_negative', i)\n",
        "    shutil.copyfile(src, dst)"
      ],
      "execution_count": 0,
      "outputs": []
    },
    {
      "cell_type": "code",
      "metadata": {
        "id": "DWAF0LxLErsQ",
        "colab_type": "code",
        "outputId": "1def3848-9ec7-4d5a-80b9-066b5bcc874c",
        "colab": {
          "base_uri": "https://localhost:8080/",
          "height": 34
        }
      },
      "source": [
        "import os \n",
        "len(os.listdir('/content/drive/My Drive/ayush_ranjan_project/Malaria/test/malaria positive'))"
      ],
      "execution_count": 0,
      "outputs": [
        {
          "output_type": "execute_result",
          "data": {
            "text/plain": [
              "2756"
            ]
          },
          "metadata": {
            "tags": []
          },
          "execution_count": 2
        }
      ]
    },
    {
      "cell_type": "code",
      "metadata": {
        "id": "J4zY-r2BqYhK",
        "colab_type": "code",
        "outputId": "52199c71-1493-46e8-c30e-c8f1eb59761a",
        "colab": {
          "base_uri": "https://localhost:8080/",
          "height": 34
        }
      },
      "source": [
        "len(os.listdir('/content/drive/My Drive/ayush_ranjan_project/Malaria/train/malaria positive'))"
      ],
      "execution_count": 0,
      "outputs": [
        {
          "output_type": "execute_result",
          "data": {
            "text/plain": [
              "8820"
            ]
          },
          "metadata": {
            "tags": []
          },
          "execution_count": 4
        }
      ]
    },
    {
      "cell_type": "code",
      "metadata": {
        "id": "oYw3BIUJq814",
        "colab_type": "code",
        "outputId": "2f749058-6402-482d-9eec-86872ebf09a8",
        "colab": {
          "base_uri": "https://localhost:8080/",
          "height": 34
        }
      },
      "source": [
        "len(os.listdir('/content/drive/My Drive/ayush_ranjan_project/Malaria/validation/malaria positive'))\n"
      ],
      "execution_count": 0,
      "outputs": [
        {
          "output_type": "execute_result",
          "data": {
            "text/plain": [
              "2204"
            ]
          },
          "metadata": {
            "tags": []
          },
          "execution_count": 5
        }
      ]
    },
    {
      "cell_type": "code",
      "metadata": {
        "id": "Sb5l0t-zrEyK",
        "colab_type": "code",
        "outputId": "4f58a1d6-cd12-4d4d-fd9e-88c145f6550a",
        "colab": {
          "base_uri": "https://localhost:8080/",
          "height": 34
        }
      },
      "source": [
        "len(os.listdir('/content/drive/My Drive/ayush_ranjan_project/Malaria/train/malaria_negative'))"
      ],
      "execution_count": 0,
      "outputs": [
        {
          "output_type": "execute_result",
          "data": {
            "text/plain": [
              "8820"
            ]
          },
          "metadata": {
            "tags": []
          },
          "execution_count": 7
        }
      ]
    },
    {
      "cell_type": "code",
      "metadata": {
        "id": "1dMDdZWUrQYA",
        "colab_type": "code",
        "outputId": "bff57523-aea2-4f10-b7ee-b99dd1134d0e",
        "colab": {
          "base_uri": "https://localhost:8080/",
          "height": 34
        }
      },
      "source": [
        "len(os.listdir('/content/drive/My Drive/ayush_ranjan_project/Malaria/validation/malaria_negative'))"
      ],
      "execution_count": 0,
      "outputs": [
        {
          "output_type": "execute_result",
          "data": {
            "text/plain": [
              "2204"
            ]
          },
          "metadata": {
            "tags": []
          },
          "execution_count": 8
        }
      ]
    },
    {
      "cell_type": "code",
      "metadata": {
        "id": "RNO72PsArWlv",
        "colab_type": "code",
        "outputId": "8d89a228-7f4e-44af-fa84-beeaa60bf3fe",
        "colab": {
          "base_uri": "https://localhost:8080/",
          "height": 34
        }
      },
      "source": [
        "len(os.listdir('/content/drive/My Drive/ayush_ranjan_project/Malaria/test/malaria_negative'))"
      ],
      "execution_count": 0,
      "outputs": [
        {
          "output_type": "execute_result",
          "data": {
            "text/plain": [
              "2756"
            ]
          },
          "metadata": {
            "tags": []
          },
          "execution_count": 16
        }
      ]
    }
  ]
}